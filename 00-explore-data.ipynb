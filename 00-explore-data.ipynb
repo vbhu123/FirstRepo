{
 "cells": [
  {
   "cell_type": "code",
   "execution_count": 2,
   "metadata": {},
   "outputs": [
    {
     "data": {
      "text/html": [
       "\n",
       "        <div>\n",
       "            <p><b>SparkContext</b></p>\n",
       "\n",
       "            <p><a href=\"http://10.0.65.60:4040\">Spark UI</a></p>\n",
       "\n",
       "            <dl>\n",
       "              <dt>Version</dt>\n",
       "                <dd><code>v2.2.1</code></dd>\n",
       "              <dt>Master</dt>\n",
       "                <dd><code>yarn</code></dd>\n",
       "              <dt>AppName</dt>\n",
       "                <dd><code>app-f1c2436e0bdfdda937ff66796bc18e1c-79646775d-5pzwg</code></dd>\n",
       "            </dl>\n",
       "        </div>\n",
       "        "
      ],
      "text/plain": [
       "<SparkContext master=yarn appName=app-f1c2436e0bdfdda937ff66796bc18e1c-79646775d-5pzwg>"
      ]
     },
     "execution_count": 2,
     "metadata": {},
     "output_type": "execute_result"
    }
   ],
   "source": [
    "# Check that the \"sc\" object is created (i.e. connection with the Spark cluster established\n",
    "\n",
    "sc"
   ]
  },
  {
   "cell_type": "code",
   "execution_count": 3,
   "metadata": {},
   "outputs": [
    {
     "name": "stdout",
     "output_type": "stream",
     "text": [
      "+------------------------------+\n",
      "|databaseName                  |\n",
      "+------------------------------+\n",
      "|an_training_analyst           |\n",
      "|an_training_datalake          |\n",
      "|an_training_datalake_sensitive|\n",
      "|an_training_easl              |\n",
      "|an_training_etl               |\n",
      "|an_training_segmentations     |\n",
      "|an_training_tmp               |\n",
      "|an_training_tmp_sensitive     |\n",
      "|default                       |\n",
      "+------------------------------+\n",
      "\n"
     ]
    }
   ],
   "source": [
    "# List available databases\n",
    "spark.sql(\"show databases\").show(truncate=False)"
   ]
  },
  {
   "cell_type": "code",
   "execution_count": 4,
   "metadata": {},
   "outputs": [
    {
     "name": "stdout",
     "output_type": "stream",
     "text": [
      "+----------------+----------------------+-----------+\n",
      "|database        |tableName             |isTemporary|\n",
      "+----------------+----------------------+-----------+\n",
      "|an_training_easl|basket                |false      |\n",
      "|an_training_easl|card_dim_c            |false      |\n",
      "|an_training_easl|filtered_prod_pqt     |false      |\n",
      "|an_training_easl|item                  |false      |\n",
      "|an_training_easl|prod_dim_c            |false      |\n",
      "|an_training_easl|prods_filtered        |false      |\n",
      "|an_training_easl|store_dim_c           |false      |\n",
      "|an_training_easl|training1_cards       |false      |\n",
      "|an_training_easl|training1_products    |false      |\n",
      "|an_training_easl|training1_transactions|false      |\n",
      "|an_training_easl|training2_basket      |false      |\n",
      "|an_training_easl|training2_card        |false      |\n",
      "|an_training_easl|training2_item        |false      |\n",
      "|an_training_easl|training2_prod        |false      |\n",
      "|an_training_easl|training2_store       |false      |\n",
      "|an_training_easl|transaction_basket_mft|false      |\n",
      "|an_training_easl|transaction_item_mft  |false      |\n",
      "+----------------+----------------------+-----------+\n",
      "\n"
     ]
    }
   ],
   "source": [
    "# List tables in the EASL database\n",
    "sqlContext.tables(\"an_training_easl\").show(truncate=False)"
   ]
  },
  {
   "cell_type": "code",
   "execution_count": 5,
   "metadata": {
    "scrolled": true
   },
   "outputs": [
    {
     "name": "stdout",
     "output_type": "stream",
     "text": [
      "+---------------+------+--------+--------+-------+-------------------+--------+----------+-------------+--------------------+----------------+-------+-------+---------+---------+----------+---------+-----------------+---------------------+----------+----------------------+--------------------+------------------+-----------+-----------+\n",
      "|transaction_fid|prd_id|card_id |store_id|date_id|transaction_dttm   |item_qty|unit_price|net_spend_amt|transaction_item_fid|transaction_code|prsn_id|prod_id|card_code|prsn_code|store_code|prod_code|item_discount_amt|item_gross_margin_amt|reward_pts|basket_sample_seed_num|discount_reason_code|discount_type_code|fis_year_id|fis_week_id|\n",
      "+---------------+------+--------+--------+-------+-------------------+--------+----------+-------------+--------------------+----------------+-------+-------+---------+---------+----------+---------+-----------------+---------------------+----------+----------------------+--------------------+------------------+-----------+-----------+\n",
      "|12856129700    |10929 |13372715|1360    |0      |2015-09-28 23:00:00|3       |5         |15           |0                   |0               |0      |0      |0        |0        |0         |0        |0                |0                    |0         |0                     |0                   |0                 |0          |0          |\n",
      "|12856130165    |18724 |46982860|1005    |0      |2015-09-17 07:00:00|5       |9         |45           |0                   |0               |0      |0      |0        |0        |0         |0        |0                |0                    |0         |0                     |0                   |0                 |0          |0          |\n",
      "|12856130711    |14470 |66721122|1453    |0      |2015-06-01 07:00:00|3       |7         |21           |0                   |0               |0      |0      |0        |0        |0         |0        |0                |0                    |0         |0                     |0                   |0                 |0          |0          |\n",
      "|12856131168    |21013 |74457737|1180    |0      |2015-06-06 11:00:00|3       |9         |27           |0                   |0               |0      |0      |0        |0        |0         |0        |0                |0                    |0         |0                     |0                   |0                 |0          |0          |\n",
      "|12856131768    |20813 |84759899|1431    |0      |2015-09-20 19:00:00|1       |7         |7            |0                   |0               |0      |0      |0        |0        |0         |0        |0                |0                    |0         |0                     |0                   |0                 |0          |0          |\n",
      "|12856132327    |26878 |93112560|1220    |0      |2015-07-31 15:00:00|5       |7         |35           |0                   |0               |0      |0      |0        |0        |0         |0        |0                |0                    |0         |0                     |0                   |0                 |0          |0          |\n",
      "|12856132647    |19038 |97991793|1423    |0      |2015-05-30 18:00:00|1       |7         |7            |0                   |0               |0      |0      |0        |0        |0         |0        |0                |0                    |0         |0                     |0                   |0                 |0          |0          |\n",
      "|12856133049    |19816 |97250190|1169    |0      |2015-09-18 05:00:00|3       |3         |9            |0                   |0               |0      |0      |0        |0        |0         |0        |0                |0                    |0         |0                     |0                   |0                 |0          |0          |\n",
      "|12856133740    |12049 |60894948|1021    |0      |2015-04-05 22:00:00|9       |9         |81           |0                   |0               |0      |0      |0        |0        |0         |0        |0                |0                    |0         |0                     |0                   |0                 |0          |0          |\n",
      "|12856134369    |28376 |73719506|1284    |0      |2015-02-16 10:00:00|5       |3         |15           |0                   |0               |0      |0      |0        |0        |0         |0        |0                |0                    |0         |0                     |0                   |0                 |0          |0          |\n",
      "|12856135271    |20550 |84713687|1287    |0      |2015-12-19 01:00:00|5       |1         |5            |0                   |0               |0      |0      |0        |0        |0         |0        |0                |0                    |0         |0                     |0                   |0                 |0          |0          |\n",
      "|12856135831    |13030 |96480205|1118    |0      |2015-10-25 11:00:00|5       |15        |75           |0                   |0               |0      |0      |0        |0        |0         |0        |0                |0                    |0         |0                     |0                   |0                 |0          |0          |\n",
      "|12856136308    |23833 |98661029|1202    |0      |2015-08-16 08:00:00|1       |3         |3            |0                   |0               |0      |0      |0        |0        |0         |0        |0                |0                    |0         |0                     |0                   |0                 |0          |0          |\n",
      "|12856136722    |11263 |28503618|1431    |0      |2015-07-21 22:00:00|5       |11        |55           |0                   |0               |0      |0      |0        |0        |0         |0        |0                |0                    |0         |0                     |0                   |0                 |0          |0          |\n",
      "|12856137084    |21121 |49327263|1089    |0      |2015-01-10 19:00:00|5       |3         |15           |0                   |0               |0      |0      |0        |0        |0         |0        |0                |0                    |0         |0                     |0                   |0                 |0          |0          |\n",
      "|12856137474    |29439 |72320988|1456    |0      |2015-08-29 16:00:00|1       |7         |7            |0                   |0               |0      |0      |0        |0        |0         |0        |0                |0                    |0         |0                     |0                   |0                 |0          |0          |\n",
      "|12856138350    |28427 |85497134|1416    |0      |2015-12-05 06:00:00|1       |3         |3            |0                   |0               |0      |0      |0        |0        |0         |0        |0                |0                    |0         |0                     |0                   |0                 |0          |0          |\n",
      "|12856139069    |27076 |90939295|1197    |0      |2015-09-17 07:00:00|5       |11        |55           |0                   |0               |0      |0      |0        |0        |0         |0        |0                |0                    |0         |0                     |0                   |0                 |0          |0          |\n",
      "|12856139679    |29054 |92831561|1023    |0      |2015-03-25 22:00:00|5       |7         |35           |0                   |0               |0      |0      |0        |0        |0         |0        |0                |0                    |0         |0                     |0                   |0                 |0          |0          |\n",
      "|12856140162    |29783 |25877197|1313    |0      |2015-11-03 22:00:00|1       |7         |7            |0                   |0               |0      |0      |0        |0        |0         |0        |0                |0                    |0         |0                     |0                   |0                 |0          |0          |\n",
      "+---------------+------+--------+--------+-------+-------------------+--------+----------+-------------+--------------------+----------------+-------+-------+---------+---------+----------+---------+-----------------+---------------------+----------+----------------------+--------------------+------------------+-----------+-----------+\n",
      "only showing top 20 rows\n",
      "\n"
     ]
    }
   ],
   "source": [
    "# Show content of an_training_easl.training2_item table\n",
    "sqlContext.table(\"an_training_easl.training2_item\").show(truncate=False)"
   ]
  },
  {
   "cell_type": "code",
   "execution_count": null,
   "metadata": {},
   "outputs": [],
   "source": []
  }
 ],
 "metadata": {
  "kernelspec": {
   "display_name": "PySpark 2.2.0",
   "language": "python",
   "name": "pyspark-2.2.1"
  },
  "language_info": {
   "codemirror_mode": {
    "name": "ipython",
    "version": 2
   },
   "file_extension": ".py",
   "mimetype": "text/x-python",
   "name": "python",
   "nbconvert_exporter": "python",
   "pygments_lexer": "ipython2",
   "version": "2.7.5"
  }
 },
 "nbformat": 4,
 "nbformat_minor": 2
}
