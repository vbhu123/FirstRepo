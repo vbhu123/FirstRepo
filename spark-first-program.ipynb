{
 "cells": [
  {
   "cell_type": "code",
   "execution_count": 1,
   "metadata": {},
   "outputs": [
    {
     "name": "stdout",
     "output_type": "stream",
     "text": [
      "Your userID is marcol\n"
     ]
    }
   ],
   "source": [
    "import pyspark.sql.functions as F\n",
    "import os\n",
    "userID = os.environ[\"USER\"]\n",
    "print(\"Your userID is {}\".format(userID))"
   ]
  },
  {
   "cell_type": "code",
   "execution_count": 2,
   "metadata": {},
   "outputs": [],
   "source": [
    "customers = sqlContext.table(\"an_training_easl.training1_cards\")"
   ]
  },
  {
   "cell_type": "code",
   "execution_count": 3,
   "metadata": {},
   "outputs": [],
   "source": [
    "shabits_dist2 = customers.groupBy('shabits')\\\n",
    "                         .agg(F.count('card_id').alias('customers'), \\\n",
    "                              F.max('income').alias('max_income'), \\\n",
    "                              F.min('income').alias('min_income'), \\\n",
    "                              F.mean('age').alias('average_age')).persist()\n"
   ]
  },
  {
   "cell_type": "code",
   "execution_count": 4,
   "metadata": {},
   "outputs": [
    {
     "name": "stdout",
     "output_type": "stream",
     "text": [
      "+-------+---------+----------+----------+-----------+\n",
      "|shabits|customers|max_income|min_income|average_age|\n",
      "+-------+---------+----------+----------+-----------+\n",
      "|     VL|        5|  999432.0|   45342.0|       49.6|\n",
      "|     Po|        1|   55674.0|   55674.0|       31.0|\n",
      "|     Vl|        1|   50000.0|   50000.0|       25.0|\n",
      "|     PO|        6|  558700.0|   12000.0|       38.0|\n",
      "|     LP|        1|   20000.0|   20000.0|       24.0|\n",
      "|     PR|        5| 1000000.0|   21098.0|       40.4|\n",
      "+-------+---------+----------+----------+-----------+\n",
      "\n"
     ]
    }
   ],
   "source": [
    "shabits_dist2.show()"
   ]
  },
  {
   "cell_type": "code",
   "execution_count": 5,
   "metadata": {},
   "outputs": [],
   "source": [
    "shabits_dist2.write.parquet(\"gs://an-training-analystplatform-analyst/{}/shabits_summary\".format(userID), mode=\"overwrite\")"
   ]
  },
  {
   "cell_type": "code",
   "execution_count": null,
   "metadata": {},
   "outputs": [],
   "source": []
  }
 ],
 "metadata": {
  "kernelspec": {
   "display_name": "PySpark 2.2.0",
   "language": "python",
   "name": "pyspark-2.2.1"
  },
  "language_info": {
   "codemirror_mode": {
    "name": "ipython",
    "version": 2
   },
   "file_extension": ".py",
   "mimetype": "text/x-python",
   "name": "python",
   "nbconvert_exporter": "python",
   "pygments_lexer": "ipython2",
   "version": "2.7.5"
  }
 },
 "nbformat": 4,
 "nbformat_minor": 2
}
