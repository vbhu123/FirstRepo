{
 "cells": [
  {
   "cell_type": "code",
   "execution_count": 24,
   "metadata": {},
   "outputs": [],
   "source": [
    "import ipywidgets\n",
    "import pandas as pd\n",
    "import numpy as np\n",
    "import sys\n",
    "from ipywidgets import widgets,Button, HBox, VBox, Box, Layout\n",
    "from IPython.display import Javascript, display\n",
    "from pyspark.sql.functions import *\n",
    "from sklearn.metrics.pairwise import cosine_similarity\n",
    "from sklearn.metrics import pairwise_distances"
   ]
  },
  {
   "cell_type": "markdown",
   "metadata": {},
   "source": [
    "# Automated Test-Control Store Selection "
   ]
  },
  {
   "cell_type": "markdown",
   "metadata": {},
   "source": [
    "# Making X5 Changes"
   ]
  },
  {
   "cell_type": "code",
   "execution_count": 25,
   "metadata": {},
   "outputs": [
    {
     "data": {
      "text/plain": [
       "'/nfs/science/shared/ipythonNotebooks/vaibhat/SR/c3'"
      ]
     },
     "execution_count": 25,
     "metadata": {},
     "output_type": "execute_result"
    }
   ],
   "source": [
    "import os\n",
    "os.chdir('/nfs/science/shared/ipythonNotebooks/vaibhat/SR/c3')\n",
    "os.getcwd()"
   ]
  },
  {
   "cell_type": "code",
   "execution_count": 26,
   "metadata": {
    "scrolled": true
   },
   "outputs": [],
   "source": [
    "from pyspark.sql import HiveContext\n",
    "import pandas as pd\n",
    "df=pd.read_csv('cluster1t.csv')\n",
    "sample=sqlContext.createDataFrame(df)\n",
    "df = sample.withColumn(\"fis_week_id\",concat(lit(\"sales\"),lit(\"_\"),col(\"fis_week_id\")))\n",
    "\n",
    "sample_pivot = df.groupBy(\"store_code\").pivot(\"fis_week_id\").sum(\"sales\").na.fill(0)\n",
    "sample_pivot.toPandas().to_csv(\"testrunt.csv\",encoding='latin',index = False)\n",
    "\n"
   ]
  },
  {
   "cell_type": "code",
   "execution_count": 27,
   "metadata": {
    "scrolled": true
   },
   "outputs": [],
   "source": [
    "df_data = pd.read_csv(\"testrunt.csv\",encoding='latin')\n",
    "\n",
    "#df_data[\"store_code\"] = df_data.store_code.map(\"{:05}\".format)"
   ]
  },
  {
   "cell_type": "code",
   "execution_count": 28,
   "metadata": {},
   "outputs": [
    {
     "data": {
      "text/html": [
       "<div>\n",
       "<style scoped>\n",
       "    .dataframe tbody tr th:only-of-type {\n",
       "        vertical-align: middle;\n",
       "    }\n",
       "\n",
       "    .dataframe tbody tr th {\n",
       "        vertical-align: top;\n",
       "    }\n",
       "\n",
       "    .dataframe thead th {\n",
       "        text-align: right;\n",
       "    }\n",
       "</style>\n",
       "<table border=\"1\" class=\"dataframe\">\n",
       "  <thead>\n",
       "    <tr style=\"text-align: right;\">\n",
       "      <th></th>\n",
       "      <th>c</th>\n",
       "    </tr>\n",
       "  </thead>\n",
       "  <tbody>\n",
       "    <tr>\n",
       "      <th>0</th>\n",
       "      <td>cluster3</td>\n",
       "    </tr>\n",
       "  </tbody>\n",
       "</table>\n",
       "</div>"
      ],
      "text/plain": [
       "          c\n",
       "0  cluster3"
      ]
     },
     "execution_count": 28,
     "metadata": {},
     "output_type": "execute_result"
    }
   ],
   "source": [
    "df = pd.DataFrame(['cluster1'],columns= list(\"c\"))\n",
    "pilot_stores = pd.DataFrame(df.c.apply(lambda x: str(x).zfill(5)))\n",
    "pilot_stores"
   ]
  },
  {
   "cell_type": "code",
   "execution_count": 29,
   "metadata": {},
   "outputs": [],
   "source": [
    "df_data2=df_data.T\n",
    "df_data3=df_data2.rename(columns=df_data2.iloc[0])\n",
    "df_data3=df_data3.iloc[1:]\n",
    "df_data3=df_data3.astype(float)\n",
    "df_corr=df_data3.corr()\n",
    "df_corr[df_corr==1]=0\n",
    "df_corr2 = df_corr.unstack().reset_index(name='correlation').sort_values(by=['level_0', 'correlation'], ascending=[True, False])\n",
    "df_corr2.index = range(len(df_corr2))\n",
    "df_corr2['Corr_Rank'] = df_corr2.groupby('level_0')['correlation'].rank(ascending=False)\n",
    "#df_corr2"
   ]
  },
  {
   "cell_type": "code",
   "execution_count": 30,
   "metadata": {},
   "outputs": [],
   "source": [
    "# df_data_v2=df_data\n",
    "df_data.index = df_data['store_code']\n",
    "a1=df_data.iloc[:,1:]\n",
    "a1= 1-pd.DataFrame(pairwise_distances(a1, metric=\"cosine\")).round(5)\n",
    "a1.index = df_data['store_code']\n",
    "a1=a1.rename(columns=df_data2.iloc[0])\n",
    "a1[a1==1]=0\n",
    "a1=a1.unstack().reset_index(name='cosine_similarity').sort_values(by=['level_0', 'cosine_similarity'], ascending=[True, False])\n",
    "a1.index = range(len(a1))\n",
    "a1['Cossim_Rank'] = a1.groupby('level_0')['cosine_similarity'].rank(ascending=False)\n",
    "#a1"
   ]
  },
  {
   "cell_type": "code",
   "execution_count": 31,
   "metadata": {},
   "outputs": [],
   "source": [
    "combined = pd.merge(a1, df_corr2, left_on = ['level_0','store_code'], right_on = ['level_0','level_1']).drop(['level_1'],axis=1)\n",
    "# combined "
   ]
  },
  {
   "cell_type": "markdown",
   "metadata": {},
   "source": [
    "# Use Groupby and Count on above dataset to Output Potential Trial Stores with Quality"
   ]
  },
  {
   "cell_type": "code",
   "execution_count": null,
   "metadata": {},
   "outputs": [],
   "source": []
  },
  {
   "cell_type": "code",
   "execution_count": 32,
   "metadata": {},
   "outputs": [],
   "source": [
    "reduced3 = pd.merge(combined, pilot_stores, left_on = 'level_0', right_on = 'c').drop(['c'],axis=1)\n",
    "elim_trail=pilot_stores['c'].tolist()\n",
    "reduced4 = reduced3.drop(reduced3[reduced3['store_code'].isin(elim_trail)].index).reset_index().drop(['index'],axis=1)"
   ]
  },
  {
   "cell_type": "code",
   "execution_count": 33,
   "metadata": {},
   "outputs": [],
   "source": [
    "reduced4.to_csv('all_res3.csv')"
   ]
  },
  {
   "cell_type": "markdown",
   "metadata": {},
   "source": [
    "# Individual Store level matching as below :-"
   ]
  },
  {
   "cell_type": "code",
   "execution_count": 60,
   "metadata": {
    "scrolled": true
   },
   "outputs": [
    {
     "name": "stdout",
     "output_type": "stream",
     "text": [
      "       test                         control    quality\n",
      "0  cluster3  [4992, 5112, 6020, 5176, 5118]  excellent\n"
     ]
    }
   ],
   "source": [
    "# %%time\n",
    "from scipy.spatial.distance import cosine\n",
    "cnt=0\n",
    "Test_dict={}\n",
    "Control_dict={}\n",
    "Error_dict={}\n",
    "Correlation_dict={}\n",
    "CosineSim_dict={}\n",
    "Testdata_dict={}\n",
    "Controldata_dict={}\n",
    "\n",
    "for i in elim_trail:\n",
    "    cnt=cnt+1\n",
    "#     print (\"Test store \"+str(cnt)+\" : \"+i)\n",
    "    process_df = reduced4.drop(reduced4[reduced4.level_0 <> i].index).reset_index().drop(['index'],axis=1)\n",
    "    process_df = process_df.drop(process_df[process_df.cosine_similarity < 0.9975].index).reset_index().drop(['index'],axis=1)\n",
    "    process_df = process_df.drop(process_df[process_df.correlation < 0.55].index).reset_index().drop(['index'],axis=1)\n",
    "    process_df['weighted_scr'] = process_df['cosine_similarity']*0.95+process_df['correlation']*0.05\n",
    "    process_df = process_df.sort_values(by=['weighted_scr'], ascending=[False]).reset_index().drop(['index'],axis=1)\n",
    "    pot_controls=process_df['store_code'].tolist()\n",
    "#     print (pot_controls)\n",
    "    if len(pot_controls)>0:        \n",
    "#     print (process_df)\n",
    "        new=df_data.iloc[:,1:]\n",
    "        T=new.loc[i]\n",
    "        Testdata_dict[cnt-1] = T.to_frame()\n",
    "        Testdata_dict[cnt-1] = Testdata_dict[cnt-1].rename(columns={ Testdata_dict[cnt-1].columns[0]: \"Test\" })\n",
    "        Test_dict[cnt-1]=i\n",
    "        X = {}\n",
    "        Er = []\n",
    "        Cor = []\n",
    "        Ct = []\n",
    "        count=0\n",
    "        for j in pot_controls:\n",
    "            count = count+1\n",
    "            if count>5:\n",
    "                break\n",
    "            C=new.loc[j]\n",
    "            AF=T.sum()/C.sum()\n",
    "            AC=C*AF\n",
    "            X[count] = AC.to_frame()\n",
    "            X[count] = X[count].rename(columns={ X[count].columns[0]: \"control\" })\n",
    "            P = pd.Panel(X)\n",
    "            AAC=P.mean(axis=0)\n",
    "            AACN = AAC.iloc[:,0]\n",
    "            E=(T-AACN).abs()\n",
    "            PSE=(E.sum())/(AC.sum())*100\n",
    "            Er.append(PSE)\n",
    "            Cor.append(T.corr(AACN))\n",
    "            if Er[count-1]>Er[count-2] and Cor[count-1]<(Cor[count-2]+0.03):\n",
    "                break\n",
    "#             print (\"Control \"+str(count)+\" -> \"+str(j))\n",
    "#             print (\"Error : \"+ str(PSE))\n",
    "#             print (\"Correlation : \"+str(T.corr(AACN)))\n",
    "#             print (\"Cosine Similarity : \"+ str(1 - cosine(T,AACN)))\n",
    "            Ct.append(str(j))\n",
    "#             print (Ct)\n",
    "            Controldata_dict[cnt-1]=AAC\n",
    "            Error_dict[cnt-1]=PSE.round(2)\n",
    "            Correlation_dict[cnt-1]=T.corr(AACN).round(2)\n",
    "            CosineSim_dict[cnt-1]=(1 - cosine(T,AACN)).round(4)\n",
    "            Control_dict[cnt-1]=Ct\n",
    "collate=pd.DataFrame([Test_dict,Control_dict, Error_dict,Correlation_dict,CosineSim_dict])\n",
    "final=collate.T\n",
    "labels=['test','control','error','correlation','trend']\n",
    "final.columns = labels\n",
    "final['quality'] = np.where((final['correlation']>0.9) & (final['trend']>0.999) , 'excellent',np.where((final['correlation']>0.85) & (final['trend']>0.9985) , 'good', 'medium'))\n",
    "final.to_csv('Test_Control_Storewise_Matcht.csv')\n",
    "final2 = final[['test','control','quality']]\n",
    "# print (\"Individual Store level matching as below :-\")\n",
    "print (final2)\n",
    "# final2\n",
    "Q = pd.Panel(Testdata_dict)\n",
    "T_Group=Q.sum(axis=0)\n",
    "R = pd.Panel(Controldata_dict)\n",
    "C_Group=R.sum(axis=0)\n",
    "tests=T_Group['Test'].tolist()\n",
    "controls=C_Group['control'].tolist()\n",
    "TC_plot = pd.DataFrame({'Control': controls,'Test': tests})\n",
    "TC_plot.to_csv('Test_Control_Group_Datat.csv')\n",
    "OCR=(T_Group.iloc[:,0].corr(C_Group.iloc[:,0]).round(3))*100\n",
    "OCS= (1 - cosine(T_Group.iloc[:,0],C_Group.iloc[:,0])).round(4)"
   ]
  },
  {
   "cell_type": "code",
   "execution_count": 61,
   "metadata": {},
   "outputs": [
    {
     "data": {
      "text/plain": [
       "{0:                      Test\n",
       " sales_201802  1293249.771\n",
       " sales_201803  1301598.180\n",
       " sales_201804  1347316.304\n",
       " sales_201805  1398162.331\n",
       " sales_201806  1541796.873\n",
       " sales_201807  1544949.849\n",
       " sales_201808  1477311.634\n",
       " sales_201809  1344787.720\n",
       " sales_201810  1252144.405\n",
       " sales_201811  1341966.854\n",
       " sales_201812  1350536.442\n",
       " sales_201813  1235876.880\n",
       " sales_201814  1359092.010\n",
       " sales_201815  1213018.551\n",
       " sales_201816  1383083.650}"
      ]
     },
     "execution_count": 61,
     "metadata": {},
     "output_type": "execute_result"
    }
   ],
   "source": [
    "Testdata_dict"
   ]
  },
  {
   "cell_type": "code",
   "execution_count": 62,
   "metadata": {},
   "outputs": [
    {
     "data": {
      "text/html": [
       "<div>\n",
       "<style scoped>\n",
       "    .dataframe tbody tr th:only-of-type {\n",
       "        vertical-align: middle;\n",
       "    }\n",
       "\n",
       "    .dataframe tbody tr th {\n",
       "        vertical-align: top;\n",
       "    }\n",
       "\n",
       "    .dataframe thead th {\n",
       "        text-align: right;\n",
       "    }\n",
       "</style>\n",
       "<table border=\"1\" class=\"dataframe\">\n",
       "  <thead>\n",
       "    <tr style=\"text-align: right;\">\n",
       "      <th></th>\n",
       "      <th>test</th>\n",
       "      <th>control</th>\n",
       "      <th>error</th>\n",
       "      <th>correlation</th>\n",
       "      <th>trend</th>\n",
       "      <th>quality</th>\n",
       "    </tr>\n",
       "  </thead>\n",
       "  <tbody>\n",
       "    <tr>\n",
       "      <th>0</th>\n",
       "      <td>cluster3</td>\n",
       "      <td>[4992, 5112, 6020, 5176, 5118]</td>\n",
       "      <td>1.93</td>\n",
       "      <td>0.95</td>\n",
       "      <td>0.9997</td>\n",
       "      <td>excellent</td>\n",
       "    </tr>\n",
       "  </tbody>\n",
       "</table>\n",
       "</div>"
      ],
      "text/plain": [
       "       test                         control error correlation   trend  \\\n",
       "0  cluster3  [4992, 5112, 6020, 5176, 5118]  1.93        0.95  0.9997   \n",
       "\n",
       "     quality  \n",
       "0  excellent  "
      ]
     },
     "execution_count": 62,
     "metadata": {},
     "output_type": "execute_result"
    }
   ],
   "source": [
    "final"
   ]
  },
  {
   "cell_type": "code",
   "execution_count": null,
   "metadata": {},
   "outputs": [],
   "source": [
    "# from pivottablejs import pivot_ui\n",
    "# pivot_ui(test_control_data)"
   ]
  },
  {
   "cell_type": "code",
   "execution_count": null,
   "metadata": {},
   "outputs": [],
   "source": [
    "#TC_plot"
   ]
  },
  {
   "cell_type": "code",
   "execution_count": 63,
   "metadata": {},
   "outputs": [
    {
     "name": "stdout",
     "output_type": "stream",
     "text": [
      "Overall Correlation : 94.8%\n",
      "Overall Trend Match : 0.9997\n"
     ]
    },
    {
     "data": {
      "image/png": "[encoded data removed]",
      "text/plain": [
       "<matplotlib.figure.Figure at 0x4a3ce90>"
      ]
     },
     "metadata": {},
     "output_type": "display_data"
    }
   ],
   "source": [
    "import warnings\n",
    "warnings.filterwarnings('ignore')\n",
    "%matplotlib inline\n",
    "\n",
    "# import matplotlib.pyplot as plt\n",
    "y_max=(TC_plot['Test'].mean()*1.7).round()\n",
    "y_max\n",
    "TC_line=TC_plot.plot.line(x=None, y=['Test','Control'],figsize=(12,4),legend=True,linewidth=2.5,marker='o',ylim=(0,y_max),title='Overall matching - Test Group vs Control Group')\n",
    "TC_line.axes.get_xaxis().set_ticklabels([])\n",
    "TC_line.axes.get_yaxis().set_ticklabels([])\n",
    "TC_line.set_xlabel('pre-period weeks')\n",
    "TC_line.set_ylabel('sales match')\n",
    "# plt.xticks(x,\" \")\n",
    "# plt.xticks(x,\" \")\n",
    "# plt.show()\n",
    "print (\"Overall Correlation : \" + str(OCR)+\"%\")\n",
    "print (\"Overall Trend Match : \" + str(OCS))"
   ]
  },
  {
   "cell_type": "code",
   "execution_count": 64,
   "metadata": {},
   "outputs": [
    {
     "data": {
      "text/html": [
       "<div>\n",
       "<style scoped>\n",
       "    .dataframe tbody tr th:only-of-type {\n",
       "        vertical-align: middle;\n",
       "    }\n",
       "\n",
       "    .dataframe tbody tr th {\n",
       "        vertical-align: top;\n",
       "    }\n",
       "\n",
       "    .dataframe thead th {\n",
       "        text-align: right;\n",
       "    }\n",
       "</style>\n",
       "<table border=\"1\" class=\"dataframe\">\n",
       "  <thead>\n",
       "    <tr style=\"text-align: right;\">\n",
       "      <th></th>\n",
       "      <th>level_0</th>\n",
       "      <th>store_code</th>\n",
       "      <th>cosine_similarity</th>\n",
       "      <th>Cossim_Rank</th>\n",
       "      <th>correlation</th>\n",
       "      <th>Corr_Rank</th>\n",
       "    </tr>\n",
       "  </thead>\n",
       "  <tbody>\n",
       "    <tr>\n",
       "      <th>0</th>\n",
       "      <td>cluster3</td>\n",
       "      <td>5112</td>\n",
       "      <td>0.99942</td>\n",
       "      <td>1.0</td>\n",
       "      <td>0.879158</td>\n",
       "      <td>35.0</td>\n",
       "    </tr>\n",
       "    <tr>\n",
       "      <th>1</th>\n",
       "      <td>cluster3</td>\n",
       "      <td>4992</td>\n",
       "      <td>0.99928</td>\n",
       "      <td>2.0</td>\n",
       "      <td>0.884513</td>\n",
       "      <td>30.0</td>\n",
       "    </tr>\n",
       "    <tr>\n",
       "      <th>2</th>\n",
       "      <td>cluster3</td>\n",
       "      <td>5176</td>\n",
       "      <td>0.99927</td>\n",
       "      <td>3.0</td>\n",
       "      <td>0.851772</td>\n",
       "      <td>44.0</td>\n",
       "    </tr>\n",
       "    <tr>\n",
       "      <th>3</th>\n",
       "      <td>cluster3</td>\n",
       "      <td>5118</td>\n",
       "      <td>0.99924</td>\n",
       "      <td>4.0</td>\n",
       "      <td>0.839250</td>\n",
       "      <td>45.0</td>\n",
       "    </tr>\n",
       "    <tr>\n",
       "      <th>4</th>\n",
       "      <td>cluster3</td>\n",
       "      <td>6020</td>\n",
       "      <td>0.99923</td>\n",
       "      <td>5.0</td>\n",
       "      <td>0.879897</td>\n",
       "      <td>34.0</td>\n",
       "    </tr>\n",
       "  </tbody>\n",
       "</table>\n",
       "</div>"
      ],
      "text/plain": [
       "    level_0 store_code  cosine_similarity  Cossim_Rank  correlation  Corr_Rank\n",
       "0  cluster3       5112            0.99942          1.0     0.879158       35.0\n",
       "1  cluster3       4992            0.99928          2.0     0.884513       30.0\n",
       "2  cluster3       5176            0.99927          3.0     0.851772       44.0\n",
       "3  cluster3       5118            0.99924          4.0     0.839250       45.0\n",
       "4  cluster3       6020            0.99923          5.0     0.879897       34.0"
      ]
     },
     "execution_count": 64,
     "metadata": {},
     "output_type": "execute_result"
    }
   ],
   "source": [
    "reduced4.head()"
   ]
  }
 ],
 "metadata": {
  "kernelspec": {
   "display_name": "X5-RU (Spark 2.2.0 - Python 2.7)",
   "language": "python",
   "name": "x5_ru_an_spark2"
  },
  "language_info": {
   "codemirror_mode": {
    "name": "ipython",
    "version": 2
   },
   "file_extension": ".py",
   "mimetype": "text/x-python",
   "name": "python",
   "nbconvert_exporter": "python",
   "pygments_lexer": "ipython2",
   "version": "2.7.5"
  }
 },
 "nbformat": 4,
 "nbformat_minor": 2
}
